{
 "cells": [
  {
   "cell_type": "markdown",
   "metadata": {},
   "source": [
    "# Text2Dec tool\n",
    "\n",
    "In this interactive notebook, we show the most important functionality of the Text2Dec library, to transform a textual description into a decision model in XML format. The library consists of -- modules: the 8 steps of the pipeline as outlined in our paper, a data generation module and lastly an evaluation module. Below, we show all major functionality on one particular description. However, first we need to set-up the environment and install the library from PyPi."
   ]
  },
  {
   "cell_type": "markdown",
   "metadata": {},
   "source": [
    "## Setting up the environment and installation"
   ]
  },
  {
   "cell_type": "markdown",
   "metadata": {},
   "source": [
    "Packages that do not (yet) install automatically with the library 'description2process' should first be installed."
   ]
  },
  {
   "cell_type": "code",
   "execution_count": 1,
   "metadata": {},
   "outputs": [
    {
     "name": "stdout",
     "output_type": "stream",
     "text": [
      "Collecting spacy==2.1.3"
     ]
    },
    {
     "name": "stderr",
     "output_type": "stream",
     "text": [
      "  ERROR: Command errored out with exit status 1:\n",
      "   command: 'C:\\Users\\u0132166\\AppData\\Local\\Continuum\\anaconda3\\envs\\tex2dec2\\python.exe' 'C:\\Users\\u0132166\\AppData\\Local\\Continuum\\anaconda3\\envs\\tex2dec2\\lib\\site-packages\\pip' install --ignore-installed --no-user --prefix 'C:\\Users\\u0132166\\AppData\\Local\\Temp\\pip-build-env-42z_wua7\\overlay' --no-warn-script-location --no-binary :none: --only-binary :none: -i https://pypi.org/simple -- setuptools 'wheel>0.32.0.<0.33.0' Cython 'cymem>=2.0.2,<2.1.0' 'preshed>=2.0.1,<2.1.0' 'murmurhash>=0.28.0,<1.1.0' thinc==7.0.0.dev6\n",
      "       cwd: None\n",
      "  Complete output (124 lines):\n",
      "  Collecting setuptools\n",
      "    Downloading setuptools-51.0.0-py3-none-any.whl (785 kB)\n",
      "  Collecting wheel>0.32.0.<0.33.0\n",
      "    Downloading wheel-0.36.2-py2.py3-none-any.whl (35 kB)\n",
      "  Collecting Cython\n",
      "    Downloading Cython-0.29.21-cp38-cp38-win_amd64.whl (1.7 MB)\n",
      "  Collecting cymem<2.1.0,>=2.0.2\n",
      "    Downloading cymem-2.0.5-cp38-cp38-win_amd64.whl (36 kB)\n",
      "  Collecting preshed<2.1.0,>=2.0.1\n",
      "    Using cached preshed-2.0.1.tar.gz (113 kB)\n",
      "  Collecting murmurhash<1.1.0,>=0.28.0\n",
      "    Downloading murmurhash-1.0.5-cp38-cp38-win_amd64.whl (21 kB)\n",
      "  Collecting thinc==7.0.0.dev6\n",
      "    Using cached thinc-7.0.0.dev6.tar.gz (1.9 MB)\n",
      "  Collecting blis<0.3.0,>=0.2.1\n",
      "    Downloading blis-0.2.4.tar.gz (1.5 MB)\n",
      "  Collecting thinc_gpu_ops<0.1.0,>=0.0.1\n",
      "    Downloading thinc_gpu_ops-0.0.4.tar.gz (483 kB)\n",
      "  Collecting numpy>=1.7.0\n",
      "    Downloading numpy-1.19.4-cp38-cp38-win_amd64.whl (13.0 MB)\n",
      "  Collecting wrapt<1.11.0,>=1.10.0\n",
      "    Downloading wrapt-1.10.11.tar.gz (27 kB)\n",
      "  Collecting plac<1.0.0,>=0.9.6\n",
      "    Downloading plac-0.9.6-py2.py3-none-any.whl (20 kB)\n",
      "  Collecting tqdm<5.0.0,>=4.10.0\n",
      "    Downloading tqdm-4.54.1-py2.py3-none-any.whl (69 kB)\n",
      "  Collecting six<2.0.0,>=1.10.0\n",
      "    Using cached six-1.15.0-py2.py3-none-any.whl (10 kB)\n",
      "  Collecting wasabi<1.1.0,>=0.0.9\n",
      "    Downloading wasabi-0.8.0-py3-none-any.whl (23 kB)\n",
      "  Collecting srsly<1.1.0,>=0.0.5\n",
      "    Downloading srsly-1.0.5-cp38-cp38-win_amd64.whl (178 kB)\n",
      "  Building wheels for collected packages: preshed, thinc, blis, thinc-gpu-ops, wrapt\n",
      "    Building wheel for preshed (setup.py): started\n",
      "    Building wheel for preshed (setup.py): finished with status 'done'\n",
      "    Created wheel for preshed: filename=preshed-2.0.1-cp38-cp38m-win_amd64.whl size=79153 sha256=b6e07070ad18c1a89f43d3579c03a3f59ed25f1453a791ff496bf042d3c67ada\n",
      "    Stored in directory: c:\\users\\u0132166\\appdata\\local\\pip\\cache\\wheels\\5a\\d0\\29\\7f6993a759349eae3d0ecca7e2fbc88acdd8650b25e6c6ad8a\n",
      "    Building wheel for thinc (setup.py): started\n",
      "    Building wheel for thinc (setup.py): finished with status 'done'\n",
      "    Created wheel for thinc: filename=thinc-7.0.0.dev6-cp38-cp38m-win_amd64.whl size=1959130 sha256=a4a5175e3ca9e8b3faa818fab37daf10771c78fb3cd701db2e492f58f94c62c9\n",
      "    Stored in directory: c:\\users\\u0132166\\appdata\\local\\pip\\cache\\wheels\\d3\\1a\\0d\\c0ec41b1ec5f04f003cd7509af8022c2dd4d653c23a39479da\n",
      "    Building wheel for blis (setup.py): started\n",
      "    Building wheel for blis (setup.py): finished with status 'error'\n",
      "    ERROR: Command errored out with exit status 1:\n",
      "     command: 'C:\\Users\\u0132166\\AppData\\Local\\Continuum\\anaconda3\\envs\\tex2dec2\\python.exe' -u -c 'import sys, setuptools, tokenize; sys.argv[0] = '\"'\"'C:\\\\Users\\\\u0132166\\\\AppData\\\\Local\\\\Temp\\\\pip-install-s90r310o\\\\blis\\\\setup.py'\"'\"'; __file__='\"'\"'C:\\\\Users\\\\u0132166\\\\AppData\\\\Local\\\\Temp\\\\pip-install-s90r310o\\\\blis\\\\setup.py'\"'\"';f=getattr(tokenize, '\"'\"'open'\"'\"', open)(__file__);code=f.read().replace('\"'\"'\\r\\n'\"'\"', '\"'\"'\\n'\"'\"');f.close();exec(compile(code, __file__, '\"'\"'exec'\"'\"'))' bdist_wheel -d 'C:\\Users\\u0132166\\AppData\\Local\\Temp\\pip-wheel-qnqwrd1i'\n",
      "         cwd: C:\\Users\\u0132166\\AppData\\Local\\Temp\\pip-install-s90r310o\\blis\\\n",
      "    Complete output (25 lines):\n",
      "    BLIS_COMPILER? None\n",
      "    running bdist_wheel\n",
      "    running build\n",
      "    running build_py\n",
      "    creating build\n",
      "    creating build\\lib.win-amd64-3.8\n",
      "    creating build\\lib.win-amd64-3.8\\blis\n",
      "    copying blis\\about.py -> build\\lib.win-amd64-3.8\\blis\n",
      "    copying blis\\benchmark.py -> build\\lib.win-amd64-3.8\\blis\n",
      "    copying blis\\__init__.py -> build\\lib.win-amd64-3.8\\blis\n",
      "    creating build\\lib.win-amd64-3.8\\blis\\tests\n",
      "    copying blis\\tests\\common.py -> build\\lib.win-amd64-3.8\\blis\\tests\n",
      "    copying blis\\tests\\test_dotv.py -> build\\lib.win-amd64-3.8\\blis\\tests\n",
      "    copying blis\\tests\\test_gemm.py -> build\\lib.win-amd64-3.8\\blis\\tests\n",
      "    copying blis\\tests\\__init__.py -> build\\lib.win-amd64-3.8\\blis\\tests\n",
      "    copying blis\\cy.pyx -> build\\lib.win-amd64-3.8\\blis\n",
      "    copying blis\\py.pyx -> build\\lib.win-amd64-3.8\\blis\n",
      "    copying blis\\cy.pxd -> build\\lib.win-amd64-3.8\\blis\n",
      "    copying blis\\__init__.pxd -> build\\lib.win-amd64-3.8\\blis\n",
      "    running build_ext\n",
      "    error: [WinError 2] The system cannot find the file specified\n",
      "    msvc\n",
      "    py_compiler msvc\n",
      "    {'LS_COLORS': 'rs=0:di=01;34:ln=01;36:mh=00:pi=40;33:so=01;35:do=01;35:bd=40;33;01:cd=40;33;01:or=40;31;01:mi=00:su=37;41:sg=30;43:ca=30;41:tw=30;42:ow=34;42:st=37;44:ex=01;32:*.tar=01;31:*.tgz=01;31:*.arc=01;31:*.arj=01;31:*.taz=01;31:*.lha=01;31:*.lz4=01;31:*.lzh=01;31:*.lzma=01;31:*.tlz=01;31:*.txz=01;31:*.tzo=01;31:*.t7z=01;31:*.zip=01;31:*.z=01;31:*.Z=01;31:*.dz=01;31:*.gz=01;31:*.lrz=01;31:*.lz=01;31:*.lzo=01;31:*.xz=01;31:*.zst=01;31:*.tzst=01;31:*.bz2=01;31:*.bz=01;31:*.tbz=01;31:*.tbz2=01;31:*.tz=01;31:*.deb=01;31:*.rpm=01;31:*.jar=01;31:*.war=01;31:*.ear=01;31:*.sar=01;31:*.rar=01;31:*.alz=01;31:*.ace=01;31:*.zoo=01;31:*.cpio=01;31:*.7z=01;31:*.rz=01;31:*.cab=01;31:*.wim=01;31:*.swm=01;31:*.dwm=01;31:*.esd=01;31:*.jpg=01;35:*.jpeg=01;35:*.mjpg=01;35:*.mjpeg=01;35:*.gif=01;35:*.bmp=01;35:*.pbm=01;35:*.pgm=01;35:*.ppm=01;35:*.tga=01;35:*.xbm=01;35:*.xpm=01;35:*.tif=01;35:*.tiff=01;35:*.png=01;35:*.svg=01;35:*.svgz=01;35:*.mng=01;35:*.pcx=01;35:*.mov=01;35:*.mpg=01;35:*.mpeg=01;35:*.m2v=01;35:*.mkv=01;35:*.webm=01;35:*.ogm=01;35:*.mp4=01;35:*.m4v=01;35:*.mp4v=01;35:*.vob=01;35:*.qt=01;35:*.nuv=01;35:*.wmv=01;35:*.asf=01;35:*.rm=01;35:*.rmvb=01;35:*.flc=01;35:*.avi=01;35:*.fli=01;35:*.flv=01;35:*.gl=01;35:*.dl=01;35:*.xcf=01;35:*.xwd=01;35:*.yuv=01;35:*.cgm=01;35:*.emf=01;35:*.ogv=01;35:*.ogx=01;35:*.aac=00;36:*.au=00;36:*.flac=00;36:*.m4a=00;36:*.mid=00;36:*.midi=00;36:*.mka=00;36:*.mp3=00;36:*.mpc=00;36:*.ogg=00;36:*.ra=00;36:*.wav=00;36:*.oga=00;36:*.opus=00;36:*.spx=00;36:*.xspf=00;36:', 'HOSTTYPE': 'x86_64', 'LESSCLOSE': '/usr/bin/lesspipe %s %s', 'LANG': 'C.UTF-8', 'OLDPWD': '/home/matt/repos/flame-blis', 'VIRTUAL_ENV': '/home/matt/repos/cython-blis/env3.6', 'USER': 'matt', 'PWD': '/home/matt/repos/cython-blis', 'HOME': '/home/matt', 'NAME': 'LAPTOP-OMKOB3VM', 'XDG_DATA_DIRS': '/usr/local/share:/usr/share:/var/lib/snapd/desktop', 'SHELL': '/bin/bash', 'TERM': 'xterm-256color', 'SHLVL': '1', 'LOGNAME': 'matt', 'PATH': '/home/matt/repos/cython-blis/env3.6/bin:/tmp/google-cloud-sdk/bin:/usr/local/sbin:/usr/local/bin:/usr/sbin:/usr/bin:/sbin:/bin:/usr/games:/usr/local/games:/mnt/c/Users/matt/Documents/cmder/vendor/conemu-maximus5/ConEmu/Scripts:/mnt/c/Users/matt/Documents/cmder/vendor/conemu-maximus5:/mnt/c/Users/matt/Documents/cmder/vendor/conemu-maximus5/ConEmu:/mnt/c/Python37/Scripts:/mnt/c/Python37:/mnt/c/Program Files (x86)/Intel/Intel(R) Management Engine Components/iCLS:/mnt/c/Program Files/Intel/Intel(R) Management Engine Components/iCLS:/mnt/c/Windows/System32:/mnt/c/Windows:/mnt/c/Windows/System32/wbem:/mnt/c/Windows/System32/WindowsPowerShell/v1.0:/mnt/c/Program Files (x86)/Intel/Intel(R) Management Engine Components/DAL:/mnt/c/Program Files/Intel/Intel(R) Management Engine Components/DAL:/mnt/c/Program Files (x86)/Intel/Intel(R) Management Engine Components/IPT:/mnt/c/Program Files/Intel/Intel(R) Management Engine Components/IPT:/mnt/c/Program Files/Intel/WiFi/bin:/mnt/c/Program Files/Common Files/Intel/WirelessCommon:/mnt/c/Program Files (x86)/NVIDIA Corporation/PhysX/Common:/mnt/c/ProgramData/chocolatey/bin:/mnt/c/Program Files/Git/cmd:/mnt/c/Program Files/LLVM/bin:/mnt/c/Windows/System32:/mnt/c/Windows:/mnt/c/Windows/System32/wbem:/mnt/c/Windows/System32/WindowsPowerShell/v1.0:/mnt/c/Windows/System32/OpenSSH:/mnt/c/Program Files/nodejs:/mnt/c/Users/matt/AppData/Local/Microsoft/WindowsApps:/mnt/c/Users/matt/AppData/Local/Programs/Microsoft VS Code/bin:/mnt/c/Users/matt/AppData/Roaming/npm:/snap/bin:/mnt/c/Program Files/Oracle/VirtualBox', 'PS1': '(env3.6) \\\\[\\\\e]0;\\\\u@\\\\h: \\\\w\\\\a\\\\]${debian_chroot:+($debian_chroot)}\\\\[\\\\033[01;32m\\\\]\\\\u@\\\\h\\\\[\\\\033[00m\\\\]:\\\\[\\\\033[01;34m\\\\]\\\\w\\\\[\\\\033[00m\\\\]\\\\$ ', 'VAGRANT_HOME': '/home/matt/.vagrant.d/', 'LESSOPEN': '| /usr/bin/lesspipe %s', '_': '/home/matt/repos/cython-blis/env3.6/bin/python'}\n",
      "    clang -c C:\\Users\\u0132166\\AppData\\Local\\Temp\\pip-install-s90r310o\\blis\\blis\\_src\\config\\bulldozer\\bli_cntx_init_bulldozer.c -o C:\\Users\\u0132166\\AppData\\Local\\Temp\\tmpsuly9034\\bli_cntx_init_bulldozer.o -O2 -funroll-all-loops -std=c99 -D_POSIX_C_SOURCE=200112L -DBLIS_VERSION_STRING=\"0.5.0-6\" -DBLIS_IS_BUILDING_LIBRARY -Iinclude\\windows-x86_64 -I.\\frame\\3\\ -I.\\frame\\ind\\ukernels\\ -I.\\frame\\1m\\ -I.\\frame\\1f\\ -I.\\frame\\1\\ -I.\\frame\\include -IC:\\Users\\u0132166\\AppData\\Local\\Temp\\pip-install-s90r310o\\blis\\blis\\_src\\include\\windows-x86_64\n",
      "    ----------------------------------------\n",
      "    ERROR: Failed building wheel for blis\n",
      "    Running setup.py clean for blis\n",
      "    Building wheel for thinc-gpu-ops (setup.py): started\n",
      "    Building wheel for thinc-gpu-ops (setup.py): finished with status 'done'\n",
      "    Created wheel for thinc-gpu-ops: filename=thinc_gpu_ops-0.0.4-py3-none-any.whl size=54956 sha256=8014f655c9acc6a4564dee26d32f6e7a158130d899adefd29df21a45c14d51ec\n",
      "    Stored in directory: c:\\users\\u0132166\\appdata\\local\\pip\\cache\\wheels\\68\\e5\\dd\\5bfe0549c10cc1834a91d96aea12596f3ed8091e5ab0c5b500\n",
      "    Building wheel for wrapt (setup.py): started\n",
      "    Building wheel for wrapt (setup.py): finished with status 'done'\n",
      "    Created wheel for wrapt: filename=wrapt-1.10.11-cp38-cp38m-win_amd64.whl size=33911 sha256=5bd21164b9a990b5487fa49c28876160e6bbb34897ef4c9b5f788ce1e5084bf3\n",
      "    Stored in directory: c:\\users\\u0132166\\appdata\\local\\pip\\cache\\wheels\\93\\8e\\c9\\a18fa0021f99d9e55a3ce5f2adc4c14b1dd1cab385e6993e2b\n",
      "  Successfully built preshed thinc thinc-gpu-ops wrapt\n"
     ]
    },
    {
     "name": "stderr",
     "output_type": "stream",
     "text": [
      "  Failed to build blis\n",
      "  ERROR: spacy 2.2.4 has requirement blis<0.5.0,>=0.4.0, but you'll have blis 0.2.4 which is incompatible.\n",
      "  ERROR: spacy 2.2.4 has requirement preshed<3.1.0,>=3.0.2, but you'll have preshed 2.0.1 which is incompatible.\n",
      "  ERROR: spacy 2.2.4 has requirement thinc==7.4.0, but you'll have thinc 7.0.0.dev6 which is incompatible.\n",
      "  ERROR: astroid 2.3.3 has requirement lazy-object-proxy==1.4.*, but you'll have lazy-object-proxy 1.5.0 which is incompatible.\n",
      "  ERROR: astroid 2.3.3 has requirement wrapt==1.11.*, but you'll have wrapt 1.10.11 which is incompatible.\n",
      "  Installing collected packages: setuptools, wheel, Cython, cymem, preshed, murmurhash, numpy, blis, thinc-gpu-ops, wrapt, plac, tqdm, six, wasabi, srsly, thinc\n",
      "      Running setup.py install for blis: started\n",
      "      Running setup.py install for blis: finished with status 'error'\n",
      "      ERROR: Command errored out with exit status 1:\n",
      "       command: 'C:\\Users\\u0132166\\AppData\\Local\\Continuum\\anaconda3\\envs\\tex2dec2\\python.exe' -u -c 'import sys, setuptools, tokenize; sys.argv[0] = '\"'\"'C:\\\\Users\\\\u0132166\\\\AppData\\\\Local\\\\Temp\\\\pip-install-s90r310o\\\\blis\\\\setup.py'\"'\"'; __file__='\"'\"'C:\\\\Users\\\\u0132166\\\\AppData\\\\Local\\\\Temp\\\\pip-install-s90r310o\\\\blis\\\\setup.py'\"'\"';f=getattr(tokenize, '\"'\"'open'\"'\"', open)(__file__);code=f.read().replace('\"'\"'\\r\\n'\"'\"', '\"'\"'\\n'\"'\"');f.close();exec(compile(code, __file__, '\"'\"'exec'\"'\"'))' install --record 'C:\\Users\\u0132166\\AppData\\Local\\Temp\\pip-record-1o2ewz12\\install-record.txt' --single-version-externally-managed --prefix 'C:\\Users\\u0132166\\AppData\\Local\\Temp\\pip-build-env-42z_wua7\\overlay' --compile --install-headers 'C:\\Users\\u0132166\\AppData\\Local\\Temp\\pip-build-env-42z_wua7\\overlay\\Include\\blis'\n",
      "           cwd: C:\\Users\\u0132166\\AppData\\Local\\Temp\\pip-install-s90r310o\\blis\\\n",
      "      Complete output (25 lines):\n",
      "      BLIS_COMPILER? None\n",
      "      running install\n",
      "      running build\n",
      "      running build_py\n",
      "      creating build\n",
      "      creating build\\lib.win-amd64-3.8\n",
      "      creating build\\lib.win-amd64-3.8\\blis\n",
      "      copying blis\\about.py -> build\\lib.win-amd64-3.8\\blis\n",
      "      copying blis\\benchmark.py -> build\\lib.win-amd64-3.8\\blis\n",
      "      copying blis\\__init__.py -> build\\lib.win-amd64-3.8\\blis\n",
      "      creating build\\lib.win-amd64-3.8\\blis\\tests\n",
      "      copying blis\\tests\\common.py -> build\\lib.win-amd64-3.8\\blis\\tests\n",
      "      copying blis\\tests\\test_dotv.py -> build\\lib.win-amd64-3.8\\blis\\tests\n",
      "      copying blis\\tests\\test_gemm.py -> build\\lib.win-amd64-3.8\\blis\\tests\n",
      "      copying blis\\tests\\__init__.py -> build\\lib.win-amd64-3.8\\blis\\tests\n",
      "      copying blis\\cy.pyx -> build\\lib.win-amd64-3.8\\blis\n",
      "      copying blis\\py.pyx -> build\\lib.win-amd64-3.8\\blis\n",
      "      copying blis\\cy.pxd -> build\\lib.win-amd64-3.8\\blis\n",
      "      copying blis\\__init__.pxd -> build\\lib.win-amd64-3.8\\blis\n",
      "      running build_ext\n",
      "      error: [WinError 2] The system cannot find the file specified\n",
      "      msvc\n",
      "      py_compiler msvc\n",
      "      {'LS_COLORS': 'rs=0:di=01;34:ln=01;36:mh=00:pi=40;33:so=01;35:do=01;35:bd=40;33;01:cd=40;33;01:or=40;31;01:mi=00:su=37;41:sg=30;43:ca=30;41:tw=30;42:ow=34;42:st=37;44:ex=01;32:*.tar=01;31:*.tgz=01;31:*.arc=01;31:*.arj=01;31:*.taz=01;31:*.lha=01;31:*.lz4=01;31:*.lzh=01;31:*.lzma=01;31:*.tlz=01;31:*.txz=01;31:*.tzo=01;31:*.t7z=01;31:*.zip=01;31:*.z=01;31:*.Z=01;31:*.dz=01;31:*.gz=01;31:*.lrz=01;31:*.lz=01;31:*.lzo=01;31:*.xz=01;31:*.zst=01;31:*.tzst=01;31:*.bz2=01;31:*.bz=01;31:*.tbz=01;31:*.tbz2=01;31:*.tz=01;31:*.deb=01;31:*.rpm=01;31:*.jar=01;31:*.war=01;31:*.ear=01;31:*.sar=01;31:*.rar=01;31:*.alz=01;31:*.ace=01;31:*.zoo=01;31:*.cpio=01;31:*.7z=01;31:*.rz=01;31:*.cab=01;31:*.wim=01;31:*.swm=01;31:*.dwm=01;31:*.esd=01;31:*.jpg=01;35:*.jpeg=01;35:*.mjpg=01;35:*.mjpeg=01;35:*.gif=01;35:*.bmp=01;35:*.pbm=01;35:*.pgm=01;35:*.ppm=01;35:*.tga=01;35:*.xbm=01;35:*.xpm=01;35:*.tif=01;35:*.tiff=01;35:*.png=01;35:*.svg=01;35:*.svgz=01;35:*.mng=01;35:*.pcx=01;35:*.mov=01;35:*.mpg=01;35:*.mpeg=01;35:*.m2v=01;35:*.mkv=01;35:*.webm=01;35:*.ogm=01;35:*.mp4=01;35:*.m4v=01;35:*.mp4v=01;35:*.vob=01;35:*.qt=01;35:*.nuv=01;35:*.wmv=01;35:*.asf=01;35:*.rm=01;35:*.rmvb=01;35:*.flc=01;35:*.avi=01;35:*.fli=01;35:*.flv=01;35:*.gl=01;35:*.dl=01;35:*.xcf=01;35:*.xwd=01;35:*.yuv=01;35:*.cgm=01;35:*.emf=01;35:*.ogv=01;35:*.ogx=01;35:*.aac=00;36:*.au=00;36:*.flac=00;36:*.m4a=00;36:*.mid=00;36:*.midi=00;36:*.mka=00;36:*.mp3=00;36:*.mpc=00;36:*.ogg=00;36:*.ra=00;36:*.wav=00;36:*.oga=00;36:*.opus=00;36:*.spx=00;36:*.xspf=00;36:', 'HOSTTYPE': 'x86_64', 'LESSCLOSE': '/usr/bin/lesspipe %s %s', 'LANG': 'C.UTF-8', 'OLDPWD': '/home/matt/repos/flame-blis', 'VIRTUAL_ENV': '/home/matt/repos/cython-blis/env3.6', 'USER': 'matt', 'PWD': '/home/matt/repos/cython-blis', 'HOME': '/home/matt', 'NAME': 'LAPTOP-OMKOB3VM', 'XDG_DATA_DIRS': '/usr/local/share:/usr/share:/var/lib/snapd/desktop', 'SHELL': '/bin/bash', 'TERM': 'xterm-256color', 'SHLVL': '1', 'LOGNAME': 'matt', 'PATH': '/home/matt/repos/cython-blis/env3.6/bin:/tmp/google-cloud-sdk/bin:/usr/local/sbin:/usr/local/bin:/usr/sbin:/usr/bin:/sbin:/bin:/usr/games:/usr/local/games:/mnt/c/Users/matt/Documents/cmder/vendor/conemu-maximus5/ConEmu/Scripts:/mnt/c/Users/matt/Documents/cmder/vendor/conemu-maximus5:/mnt/c/Users/matt/Documents/cmder/vendor/conemu-maximus5/ConEmu:/mnt/c/Python37/Scripts:/mnt/c/Python37:/mnt/c/Program Files (x86)/Intel/Intel(R) Management Engine Components/iCLS:/mnt/c/Program Files/Intel/Intel(R) Management Engine Components/iCLS:/mnt/c/Windows/System32:/mnt/c/Windows:/mnt/c/Windows/System32/wbem:/mnt/c/Windows/System32/WindowsPowerShell/v1.0:/mnt/c/Program Files (x86)/Intel/Intel(R) Management Engine Components/DAL:/mnt/c/Program Files/Intel/Intel(R) Management Engine Components/DAL:/mnt/c/Program Files (x86)/Intel/Intel(R) Management Engine Components/IPT:/mnt/c/Program Files/Intel/Intel(R) Management Engine Components/IPT:/mnt/c/Program Files/Intel/WiFi/bin:/mnt/c/Program Files/Common Files/Intel/WirelessCommon:/mnt/c/Program Files (x86)/NVIDIA Corporation/PhysX/Common:/mnt/c/ProgramData/chocolatey/bin:/mnt/c/Program Files/Git/cmd:/mnt/c/Program Files/LLVM/bin:/mnt/c/Windows/System32:/mnt/c/Windows:/mnt/c/Windows/System32/wbem:/mnt/c/Windows/System32/WindowsPowerShell/v1.0:/mnt/c/Windows/System32/OpenSSH:/mnt/c/Program Files/nodejs:/mnt/c/Users/matt/AppData/Local/Microsoft/WindowsApps:/mnt/c/Users/matt/AppData/Local/Programs/Microsoft VS Code/bin:/mnt/c/Users/matt/AppData/Roaming/npm:/snap/bin:/mnt/c/Program Files/Oracle/VirtualBox', 'PS1': '(env3.6) \\\\[\\\\e]0;\\\\u@\\\\h: \\\\w\\\\a\\\\]${debian_chroot:+($debian_chroot)}\\\\[\\\\033[01;32m\\\\]\\\\u@\\\\h\\\\[\\\\033[00m\\\\]:\\\\[\\\\033[01;34m\\\\]\\\\w\\\\[\\\\033[00m\\\\]\\\\$ ', 'VAGRANT_HOME': '/home/matt/.vagrant.d/', 'LESSOPEN': '| /usr/bin/lesspipe %s', '_': '/home/matt/repos/cython-blis/env3.6/bin/python'}\n",
      "      clang -c C:\\Users\\u0132166\\AppData\\Local\\Temp\\pip-install-s90r310o\\blis\\blis\\_src\\config\\bulldozer\\bli_cntx_init_bulldozer.c -o C:\\Users\\u0132166\\AppData\\Local\\Temp\\tmprkqifp58\\bli_cntx_init_bulldozer.o -O2 -funroll-all-loops -std=c99 -D_POSIX_C_SOURCE=200112L -DBLIS_VERSION_STRING=\"0.5.0-6\" -DBLIS_IS_BUILDING_LIBRARY -Iinclude\\windows-x86_64 -I.\\frame\\3\\ -I.\\frame\\ind\\ukernels\\ -I.\\frame\\1m\\ -I.\\frame\\1f\\ -I.\\frame\\1\\ -I.\\frame\\include -IC:\\Users\\u0132166\\AppData\\Local\\Temp\\pip-install-s90r310o\\blis\\blis\\_src\\include\\windows-x86_64\n",
      "      ----------------------------------------\n",
      "  ERROR: Command errored out with exit status 1: 'C:\\Users\\u0132166\\AppData\\Local\\Continuum\\anaconda3\\envs\\tex2dec2\\python.exe' -u -c 'import sys, setuptools, tokenize; sys.argv[0] = '\"'\"'C:\\\\Users\\\\u0132166\\\\AppData\\\\Local\\\\Temp\\\\pip-install-s90r310o\\\\blis\\\\setup.py'\"'\"'; __file__='\"'\"'C:\\\\Users\\\\u0132166\\\\AppData\\\\Local\\\\Temp\\\\pip-install-s90r310o\\\\blis\\\\setup.py'\"'\"';f=getattr(tokenize, '\"'\"'open'\"'\"', open)(__file__);code=f.read().replace('\"'\"'\\r\\n'\"'\"', '\"'\"'\\n'\"'\"');f.close();exec(compile(code, __file__, '\"'\"'exec'\"'\"'))' install --record 'C:\\Users\\u0132166\\AppData\\Local\\Temp\\pip-record-1o2ewz12\\install-record.txt' --single-version-externally-managed --prefix 'C:\\Users\\u0132166\\AppData\\Local\\Temp\\pip-build-env-42z_wua7\\overlay' --compile --install-headers 'C:\\Users\\u0132166\\AppData\\Local\\Temp\\pip-build-env-42z_wua7\\overlay\\Include\\blis' Check the logs for full command output.\n",
      "  ----------------------------------------\n",
      "ERROR: Command errored out with exit status 1: 'C:\\Users\\u0132166\\AppData\\Local\\Continuum\\anaconda3\\envs\\tex2dec2\\python.exe' 'C:\\Users\\u0132166\\AppData\\Local\\Continuum\\anaconda3\\envs\\tex2dec2\\lib\\site-packages\\pip' install --ignore-installed --no-user --prefix 'C:\\Users\\u0132166\\AppData\\Local\\Temp\\pip-build-env-42z_wua7\\overlay' --no-warn-script-location --no-binary :none: --only-binary :none: -i https://pypi.org/simple -- setuptools 'wheel>0.32.0.<0.33.0' Cython 'cymem>=2.0.2,<2.1.0' 'preshed>=2.0.1,<2.1.0' 'murmurhash>=0.28.0,<1.1.0' thinc==7.0.0.dev6 Check the logs for full command output.\n"
     ]
    },
    {
     "name": "stdout",
     "output_type": "stream",
     "text": [
      "\n",
      "  Using cached spacy-2.1.3.tar.gz (27.7 MB)\n",
      "  Installing build dependencies: started\n",
      "  Installing build dependencies: still running...\n",
      "  Installing build dependencies: still running...\n",
      "  Installing build dependencies: finished with status 'error'\n",
      "Collecting neuralcoref==4.0\n",
      "  Downloading neuralcoref-4.0.tar.gz (368 kB)\n",
      "Requirement already satisfied: numpy>=1.15.0 in c:\\users\\u0132166\\appdata\\local\\continuum\\anaconda3\\envs\\tex2dec2\\lib\\site-packages (from neuralcoref==4.0) (1.19.1)\n",
      "Collecting boto3\n",
      "  Downloading boto3-1.16.36-py2.py3-none-any.whl (130 kB)\n",
      "Requirement already satisfied: requests<3.0.0,>=2.13.0 in c:\\users\\u0132166\\appdata\\local\\continuum\\anaconda3\\envs\\tex2dec2\\lib\\site-packages (from neuralcoref==4.0) (2.24.0)\n",
      "Requirement already satisfied: spacy>=2.1.0 in c:\\users\\u0132166\\appdata\\local\\continuum\\anaconda3\\envs\\tex2dec2\\lib\\site-packages (from neuralcoref==4.0) (2.2.4)\n",
      "Collecting botocore<1.20.0,>=1.19.36\n",
      "  Downloading botocore-1.19.36-py2.py3-none-any.whl (7.1 MB)\n",
      "Collecting jmespath<1.0.0,>=0.7.1\n",
      "  Using cached jmespath-0.10.0-py2.py3-none-any.whl (24 kB)\n",
      "Collecting s3transfer<0.4.0,>=0.3.0\n",
      "  Using cached s3transfer-0.3.3-py2.py3-none-any.whl (69 kB)\n",
      "Requirement already satisfied: certifi>=2017.4.17 in c:\\users\\u0132166\\appdata\\local\\continuum\\anaconda3\\envs\\tex2dec2\\lib\\site-packages (from requests<3.0.0,>=2.13.0->neuralcoref==4.0) (2020.6.20)\n",
      "Requirement already satisfied: urllib3!=1.25.0,!=1.25.1,<1.26,>=1.21.1 in c:\\users\\u0132166\\appdata\\local\\continuum\\anaconda3\\envs\\tex2dec2\\lib\\site-packages (from requests<3.0.0,>=2.13.0->neuralcoref==4.0) (1.25.9)\n",
      "Requirement already satisfied: idna<3,>=2.5 in c:\\users\\u0132166\\appdata\\local\\continuum\\anaconda3\\envs\\tex2dec2\\lib\\site-packages (from requests<3.0.0,>=2.13.0->neuralcoref==4.0) (2.10)\n",
      "Requirement already satisfied: chardet<4,>=3.0.2 in c:\\users\\u0132166\\appdata\\local\\continuum\\anaconda3\\envs\\tex2dec2\\lib\\site-packages (from requests<3.0.0,>=2.13.0->neuralcoref==4.0) (3.0.4)\n",
      "Requirement already satisfied: cymem<2.1.0,>=2.0.2 in c:\\users\\u0132166\\appdata\\local\\continuum\\anaconda3\\envs\\tex2dec2\\lib\\site-packages (from spacy>=2.1.0->neuralcoref==4.0) (2.0.3)\n",
      "Requirement already satisfied: preshed<3.1.0,>=3.0.2 in c:\\users\\u0132166\\appdata\\local\\continuum\\anaconda3\\envs\\tex2dec2\\lib\\site-packages (from spacy>=2.1.0->neuralcoref==4.0) (3.0.2)\n",
      "Requirement already satisfied: plac<1.2.0,>=0.9.6 in c:\\users\\u0132166\\appdata\\local\\continuum\\anaconda3\\envs\\tex2dec2\\lib\\site-packages (from spacy>=2.1.0->neuralcoref==4.0) (1.1.3)\n",
      "Requirement already satisfied: blis<0.5.0,>=0.4.0 in c:\\users\\u0132166\\appdata\\local\\continuum\\anaconda3\\envs\\tex2dec2\\lib\\site-packages (from spacy>=2.1.0->neuralcoref==4.0) (0.4.1)\n",
      "Requirement already satisfied: thinc==7.4.0 in c:\\users\\u0132166\\appdata\\local\\continuum\\anaconda3\\envs\\tex2dec2\\lib\\site-packages (from spacy>=2.1.0->neuralcoref==4.0) (7.4.0)\n",
      "Requirement already satisfied: catalogue<1.1.0,>=0.0.7 in c:\\users\\u0132166\\appdata\\local\\continuum\\anaconda3\\envs\\tex2dec2\\lib\\site-packages (from spacy>=2.1.0->neuralcoref==4.0) (1.0.0)\n",
      "Requirement already satisfied: murmurhash<1.1.0,>=0.28.0 in c:\\users\\u0132166\\appdata\\local\\continuum\\anaconda3\\envs\\tex2dec2\\lib\\site-packages (from spacy>=2.1.0->neuralcoref==4.0) (1.0.2)\n",
      "Requirement already satisfied: tqdm<5.0.0,>=4.38.0 in c:\\users\\u0132166\\appdata\\local\\continuum\\anaconda3\\envs\\tex2dec2\\lib\\site-packages (from spacy>=2.1.0->neuralcoref==4.0) (4.46.1)\n",
      "Requirement already satisfied: setuptools in c:\\users\\u0132166\\appdata\\local\\continuum\\anaconda3\\envs\\tex2dec2\\lib\\site-packages (from spacy>=2.1.0->neuralcoref==4.0) (47.1.1.post20200604)\n",
      "Requirement already satisfied: srsly<1.1.0,>=1.0.2 in c:\\users\\u0132166\\appdata\\local\\continuum\\anaconda3\\envs\\tex2dec2\\lib\\site-packages (from spacy>=2.1.0->neuralcoref==4.0) (1.0.2)\n",
      "Requirement already satisfied: wasabi<1.1.0,>=0.4.0 in c:\\users\\u0132166\\appdata\\local\\continuum\\anaconda3\\envs\\tex2dec2\\lib\\site-packages (from spacy>=2.1.0->neuralcoref==4.0) (0.6.0)\n",
      "Requirement already satisfied: python-dateutil<3.0.0,>=2.1 in c:\\users\\u0132166\\appdata\\local\\continuum\\anaconda3\\envs\\tex2dec2\\lib\\site-packages (from botocore<1.20.0,>=1.19.36->boto3->neuralcoref==4.0) (2.8.1)\n",
      "Requirement already satisfied: six>=1.5 in c:\\users\\u0132166\\appdata\\local\\continuum\\anaconda3\\envs\\tex2dec2\\lib\\site-packages (from python-dateutil<3.0.0,>=2.1->botocore<1.20.0,>=1.19.36->boto3->neuralcoref==4.0) (1.14.0)\n",
      "Building wheels for collected packages: neuralcoref\n",
      "  Building wheel for neuralcoref (setup.py): started\n",
      "  Building wheel for neuralcoref (setup.py): finished with status 'done'\n",
      "  Created wheel for neuralcoref: filename=neuralcoref-4.0-cp38-cp38m-win_amd64.whl size=246865 sha256=5120fdff1eda83c699c13853c9f118b7bfa94b4a8cbee7b056af639e616cf625\n",
      "  Stored in directory: c:\\users\\u0132166\\appdata\\local\\pip\\cache\\wheels\\2c\\0b\\d4\\be6e85f480e2a238aaa98182f52eb6fc410c25b705ffb3b1e9\n",
      "Successfully built neuralcoref\n",
      "Installing collected packages: jmespath, botocore, s3transfer, boto3, neuralcoref\n",
      "Successfully installed boto3-1.16.36 botocore-1.19.36 jmespath-0.10.0 neuralcoref-4.0 s3transfer-0.3.3\n",
      "Collecting benepar"
     ]
    },
    {
     "name": "stderr",
     "output_type": "stream",
     "text": [
      "    ERROR: Command errored out with exit status 1:\n",
      "     command: 'C:\\Users\\u0132166\\AppData\\Local\\Continuum\\anaconda3\\envs\\tex2dec2\\python.exe' -c 'import sys, setuptools, tokenize; sys.argv[0] = '\"'\"'C:\\\\Users\\\\u0132166\\\\AppData\\\\Local\\\\Temp\\\\pip-install-x9aq93mp\\\\benepar\\\\setup.py'\"'\"'; __file__='\"'\"'C:\\\\Users\\\\u0132166\\\\AppData\\\\Local\\\\Temp\\\\pip-install-x9aq93mp\\\\benepar\\\\setup.py'\"'\"';f=getattr(tokenize, '\"'\"'open'\"'\"', open)(__file__);code=f.read().replace('\"'\"'\\r\\n'\"'\"', '\"'\"'\\n'\"'\"');f.close();exec(compile(code, __file__, '\"'\"'exec'\"'\"'))' egg_info --egg-base 'C:\\Users\\u0132166\\AppData\\Local\\Temp\\pip-install-x9aq93mp\\benepar\\pip-egg-info'\n",
      "         cwd: C:\\Users\\u0132166\\AppData\\Local\\Temp\\pip-install-x9aq93mp\\benepar\\\n",
      "    Complete output (2 lines):\n",
      "    Could not import Cython, which is required to build benepar extension modules.\n",
      "    Please install cython and numpy prior to installing benepar.\n",
      "    ----------------------------------------\n",
      "ERROR: Command errored out with exit status 1: python setup.py egg_info Check the logs for full command output.\n"
     ]
    },
    {
     "name": "stdout",
     "output_type": "stream",
     "text": [
      "\n",
      "  Using cached benepar-0.1.2.tar.gz (72 kB)\n",
      "Collecting allennlp\n",
      "  Downloading allennlp-1.2.2-py3-none-any.whl (505 kB)\n",
      "Requirement already satisfied: numpy in c:\\users\\u0132166\\appdata\\local\\continuum\\anaconda3\\envs\\tex2dec2\\lib\\site-packages (from allennlp) (1.19.1)\n",
      "Requirement already satisfied: tqdm>=4.19 in c:\\users\\u0132166\\appdata\\local\\continuum\\anaconda3\\envs\\tex2dec2\\lib\\site-packages (from allennlp) (4.46.1)\n",
      "Collecting filelock<3.1,>=3.0\n",
      "  Downloading filelock-3.0.12-py3-none-any.whl (7.6 kB)\n",
      "Requirement already satisfied: spacy<2.4,>=2.1.0 in c:\\users\\u0132166\\appdata\\local\\continuum\\anaconda3\\envs\\tex2dec2\\lib\\site-packages (from allennlp) (2.2.4)\n",
      "Collecting tensorboardX>=1.2\n",
      "  Downloading tensorboardX-2.1-py2.py3-none-any.whl (308 kB)\n",
      "Collecting pytest\n",
      "  Downloading pytest-6.2.0-py3-none-any.whl (279 kB)\n",
      "Requirement already satisfied: scipy in c:\\users\\u0132166\\appdata\\local\\continuum\\anaconda3\\envs\\tex2dec2\\lib\\site-packages (from allennlp) (1.5.0)\n",
      "Collecting nltk\n",
      "  Downloading nltk-3.5.zip (1.4 MB)\n",
      "Requirement already satisfied: scikit-learn in c:\\users\\u0132166\\appdata\\local\\continuum\\anaconda3\\envs\\tex2dec2\\lib\\site-packages (from allennlp) (0.23.2)\n",
      "Collecting jsonpickle\n",
      "  Downloading jsonpickle-1.4.2-py2.py3-none-any.whl (36 kB)\n",
      "Collecting torch<1.8.0,>=1.6.0\n",
      "  Downloading torch-1.7.1-cp38-cp38-win_amd64.whl (184.0 MB)\n",
      "Collecting overrides==3.1.0\n",
      "  Downloading overrides-3.1.0.tar.gz (11 kB)\n",
      "Requirement already satisfied: h5py in c:\\users\\u0132166\\appdata\\local\\continuum\\anaconda3\\envs\\tex2dec2\\lib\\site-packages (from allennlp) (2.10.0)\n",
      "Collecting transformers<3.6,>=3.4\n",
      "  Downloading transformers-3.5.1-py3-none-any.whl (1.3 MB)\n",
      "Requirement already satisfied: requests>=2.18 in c:\\users\\u0132166\\appdata\\local\\continuum\\anaconda3\\envs\\tex2dec2\\lib\\site-packages (from allennlp) (2.24.0)\n",
      "Requirement already satisfied: boto3<2.0,>=1.14 in c:\\users\\u0132166\\appdata\\local\\continuum\\anaconda3\\envs\\tex2dec2\\lib\\site-packages (from allennlp) (1.16.36)\n",
      "Requirement already satisfied: cymem<2.1.0,>=2.0.2 in c:\\users\\u0132166\\appdata\\local\\continuum\\anaconda3\\envs\\tex2dec2\\lib\\site-packages (from spacy<2.4,>=2.1.0->allennlp) (2.0.3)\n",
      "Requirement already satisfied: murmurhash<1.1.0,>=0.28.0 in c:\\users\\u0132166\\appdata\\local\\continuum\\anaconda3\\envs\\tex2dec2\\lib\\site-packages (from spacy<2.4,>=2.1.0->allennlp) (1.0.2)\n",
      "Requirement already satisfied: wasabi<1.1.0,>=0.4.0 in c:\\users\\u0132166\\appdata\\local\\continuum\\anaconda3\\envs\\tex2dec2\\lib\\site-packages (from spacy<2.4,>=2.1.0->allennlp) (0.6.0)\n",
      "Requirement already satisfied: plac<1.2.0,>=0.9.6 in c:\\users\\u0132166\\appdata\\local\\continuum\\anaconda3\\envs\\tex2dec2\\lib\\site-packages (from spacy<2.4,>=2.1.0->allennlp) (1.1.3)\n",
      "Requirement already satisfied: setuptools in c:\\users\\u0132166\\appdata\\local\\continuum\\anaconda3\\envs\\tex2dec2\\lib\\site-packages (from spacy<2.4,>=2.1.0->allennlp) (47.1.1.post20200604)\n",
      "Requirement already satisfied: catalogue<1.1.0,>=0.0.7 in c:\\users\\u0132166\\appdata\\local\\continuum\\anaconda3\\envs\\tex2dec2\\lib\\site-packages (from spacy<2.4,>=2.1.0->allennlp) (1.0.0)\n",
      "Requirement already satisfied: srsly<1.1.0,>=1.0.2 in c:\\users\\u0132166\\appdata\\local\\continuum\\anaconda3\\envs\\tex2dec2\\lib\\site-packages (from spacy<2.4,>=2.1.0->allennlp) (1.0.2)\n",
      "Requirement already satisfied: blis<0.5.0,>=0.4.0 in c:\\users\\u0132166\\appdata\\local\\continuum\\anaconda3\\envs\\tex2dec2\\lib\\site-packages (from spacy<2.4,>=2.1.0->allennlp) (0.4.1)\n",
      "Requirement already satisfied: thinc==7.4.0 in c:\\users\\u0132166\\appdata\\local\\continuum\\anaconda3\\envs\\tex2dec2\\lib\\site-packages (from spacy<2.4,>=2.1.0->allennlp) (7.4.0)\n",
      "Requirement already satisfied: preshed<3.1.0,>=3.0.2 in c:\\users\\u0132166\\appdata\\local\\continuum\\anaconda3\\envs\\tex2dec2\\lib\\site-packages (from spacy<2.4,>=2.1.0->allennlp) (3.0.2)\n",
      "Requirement already satisfied: six in c:\\users\\u0132166\\appdata\\local\\continuum\\anaconda3\\envs\\tex2dec2\\lib\\site-packages (from tensorboardX>=1.2->allennlp) (1.14.0)\n",
      "Collecting protobuf>=3.8.0\n",
      "  Downloading protobuf-3.14.0-py2.py3-none-any.whl (173 kB)\n",
      "Requirement already satisfied: atomicwrites>=1.0; sys_platform == \"win32\" in c:\\users\\u0132166\\appdata\\local\\continuum\\anaconda3\\envs\\tex2dec2\\lib\\site-packages (from pytest->allennlp) (1.4.0)\n",
      "Requirement already satisfied: colorama; sys_platform == \"win32\" in c:\\users\\u0132166\\appdata\\local\\continuum\\anaconda3\\envs\\tex2dec2\\lib\\site-packages (from pytest->allennlp) (0.4.3)\n",
      "Collecting iniconfig\n",
      "  Downloading iniconfig-1.1.1-py2.py3-none-any.whl (5.0 kB)\n",
      "Requirement already satisfied: pluggy<1.0.0a1,>=0.12 in c:\\users\\u0132166\\appdata\\local\\continuum\\anaconda3\\envs\\tex2dec2\\lib\\site-packages (from pytest->allennlp) (0.13.1)\n",
      "Requirement already satisfied: attrs>=19.2.0 in c:\\users\\u0132166\\appdata\\local\\continuum\\anaconda3\\envs\\tex2dec2\\lib\\site-packages (from pytest->allennlp) (19.3.0)\n",
      "Collecting py>=1.8.2\n",
      "  Downloading py-1.10.0-py2.py3-none-any.whl (97 kB)\n",
      "Requirement already satisfied: toml in c:\\users\\u0132166\\appdata\\local\\continuum\\anaconda3\\envs\\tex2dec2\\lib\\site-packages (from pytest->allennlp) (0.10.1)\n",
      "Requirement already satisfied: packaging in c:\\users\\u0132166\\appdata\\local\\continuum\\anaconda3\\envs\\tex2dec2\\lib\\site-packages (from pytest->allennlp) (20.4)\n",
      "Requirement already satisfied: click in c:\\users\\u0132166\\appdata\\local\\continuum\\anaconda3\\envs\\tex2dec2\\lib\\site-packages (from nltk->allennlp) (7.1.2)\n",
      "Requirement already satisfied: joblib in c:\\users\\u0132166\\appdata\\local\\continuum\\anaconda3\\envs\\tex2dec2\\lib\\site-packages (from nltk->allennlp) (1.0.0)\n",
      "Collecting regex\n",
      "  Downloading regex-2020.11.13-cp38-cp38-win_amd64.whl (270 kB)\n",
      "Requirement already satisfied: threadpoolctl>=2.0.0 in c:\\users\\u0132166\\appdata\\local\\continuum\\anaconda3\\envs\\tex2dec2\\lib\\site-packages (from scikit-learn->allennlp) (2.1.0)\n",
      "Requirement already satisfied: typing-extensions in c:\\users\\u0132166\\appdata\\local\\continuum\\anaconda3\\envs\\tex2dec2\\lib\\site-packages (from torch<1.8.0,>=1.6.0->allennlp) (3.7.4.3)\n",
      "Collecting sacremoses\n",
      "  Downloading sacremoses-0.0.43.tar.gz (883 kB)\n",
      "Collecting tokenizers==0.9.3\n",
      "  Downloading tokenizers-0.9.3-cp38-cp38-win_amd64.whl (1.9 MB)\n",
      "Collecting sentencepiece==0.1.91\n",
      "  Downloading sentencepiece-0.1.91-cp38-cp38-win_amd64.whl (1.2 MB)\n",
      "Requirement already satisfied: urllib3!=1.25.0,!=1.25.1,<1.26,>=1.21.1 in c:\\users\\u0132166\\appdata\\local\\continuum\\anaconda3\\envs\\tex2dec2\\lib\\site-packages (from requests>=2.18->allennlp) (1.25.9)\n",
      "Requirement already satisfied: idna<3,>=2.5 in c:\\users\\u0132166\\appdata\\local\\continuum\\anaconda3\\envs\\tex2dec2\\lib\\site-packages (from requests>=2.18->allennlp) (2.10)\n",
      "Requirement already satisfied: chardet<4,>=3.0.2 in c:\\users\\u0132166\\appdata\\local\\continuum\\anaconda3\\envs\\tex2dec2\\lib\\site-packages (from requests>=2.18->allennlp) (3.0.4)\n",
      "Requirement already satisfied: certifi>=2017.4.17 in c:\\users\\u0132166\\appdata\\local\\continuum\\anaconda3\\envs\\tex2dec2\\lib\\site-packages (from requests>=2.18->allennlp) (2020.6.20)\n",
      "Requirement already satisfied: botocore<1.20.0,>=1.19.36 in c:\\users\\u0132166\\appdata\\local\\continuum\\anaconda3\\envs\\tex2dec2\\lib\\site-packages (from boto3<2.0,>=1.14->allennlp) (1.19.36)\n",
      "Requirement already satisfied: s3transfer<0.4.0,>=0.3.0 in c:\\users\\u0132166\\appdata\\local\\continuum\\anaconda3\\envs\\tex2dec2\\lib\\site-packages (from boto3<2.0,>=1.14->allennlp) (0.3.3)\n",
      "Requirement already satisfied: jmespath<1.0.0,>=0.7.1 in c:\\users\\u0132166\\appdata\\local\\continuum\\anaconda3\\envs\\tex2dec2\\lib\\site-packages (from boto3<2.0,>=1.14->allennlp) (0.10.0)\n",
      "Requirement already satisfied: pyparsing>=2.0.2 in c:\\users\\u0132166\\appdata\\local\\continuum\\anaconda3\\envs\\tex2dec2\\lib\\site-packages (from packaging->pytest->allennlp) (2.4.7)\n",
      "Requirement already satisfied: python-dateutil<3.0.0,>=2.1 in c:\\users\\u0132166\\appdata\\local\\continuum\\anaconda3\\envs\\tex2dec2\\lib\\site-packages (from botocore<1.20.0,>=1.19.36->boto3<2.0,>=1.14->allennlp) (2.8.1)\n",
      "Building wheels for collected packages: nltk, overrides, sacremoses\n",
      "  Building wheel for nltk (setup.py): started\n",
      "  Building wheel for nltk (setup.py): finished with status 'done'\n",
      "  Created wheel for nltk: filename=nltk-3.5-py3-none-any.whl size=1434676 sha256=9be7e29e75291c3e7dfcaed580eca74cdfe9c798406110971241c20254dc088f\n",
      "  Stored in directory: c:\\users\\u0132166\\appdata\\local\\pip\\cache\\wheels\\ff\\d5\\7b\\f1fb4e1e1603b2f01c2424dd60fbcc50c12ef918bafc44b155\n",
      "  Building wheel for overrides (setup.py): started\n",
      "  Building wheel for overrides (setup.py): finished with status 'done'\n",
      "  Created wheel for overrides: filename=overrides-3.1.0-py3-none-any.whl size=10178 sha256=efc499f38eea1dbd1d8263cec3b4d7c7959e0b3ffac20ba1fa114ad892f9871f\n",
      "  Stored in directory: c:\\users\\u0132166\\appdata\\local\\pip\\cache\\wheels\\6a\\4f\\72\\28857f75625b263e2e3f5ab2fc4416c0a85960ac6485007eaa\n",
      "  Building wheel for sacremoses (setup.py): started\n",
      "  Building wheel for sacremoses (setup.py): finished with status 'done'\n",
      "  Created wheel for sacremoses: filename=sacremoses-0.0.43-py3-none-any.whl size=893261 sha256=ebbc462c4671a1bea0fc259348bd37f9267da42a1fcab6b8d96d04b0841f6304\n",
      "  Stored in directory: c:\\users\\u0132166\\appdata\\local\\pip\\cache\\wheels\\7b\\78\\f4\\27d43a65043e1b75dbddaa421b573eddc67e712be4b1c80677\n",
      "Successfully built nltk overrides sacremoses\n",
      "Installing collected packages: filelock, protobuf, tensorboardX, iniconfig, py, pytest, regex, nltk, jsonpickle, torch, overrides, sacremoses, tokenizers, sentencepiece, transformers, allennlp\n",
      "Successfully installed allennlp-1.2.2 filelock-3.0.12 iniconfig-1.1.1 jsonpickle-1.4.2 nltk-3.5 overrides-3.1.0 protobuf-3.14.0 py-1.10.0 pytest-6.2.0 regex-2020.11.13 sacremoses-0.0.43 sentencepiece-0.1.91 tensorboardX-2.1 tokenizers-0.9.3 torch-1.7.1 transformers-3.5.1\n"
     ]
    }
   ],
   "source": [
    "!pip install spacy==2.1.3\n",
    "!pip install neuralcoref==4.0\n",
    "!pip install benepar\n",
    "!pip install allennlp"
   ]
  },
  {
   "cell_type": "markdown",
   "metadata": {},
   "source": [
    "Next, install the 'description2process' library and import it."
   ]
  },
  {
   "cell_type": "code",
   "execution_count": null,
   "metadata": {},
   "outputs": [],
   "source": [
    "!pip install description2process==0.1.1"
   ]
  },
  {
   "cell_type": "markdown",
   "metadata": {},
   "source": [
    "## Data generation"
   ]
  },
  {
   "cell_type": "code",
   "execution_count": null,
   "metadata": {},
   "outputs": [],
   "source": [
    "import description2process as d2p"
   ]
  },
  {
   "cell_type": "code",
   "execution_count": null,
   "metadata": {},
   "outputs": [],
   "source": []
  },
  {
   "cell_type": "markdown",
   "metadata": {},
   "source": [
    "## NLP pipeline in action"
   ]
  },
  {
   "cell_type": "markdown",
   "metadata": {},
   "source": [
    "We define an example text and its actual drd."
   ]
  },
  {
   "cell_type": "code",
   "execution_count": null,
   "metadata": {},
   "outputs": [],
   "source": [
    "text = \"First the secretary clarifies the shipment method. Whenever there's a requirement for large amounts, he selects one of three logistic companies. Whenever small amounts are required, a package label is written by the secretary. Subsequently the goods can be packaged by the warehousemen. Next, the packaged goods are prepared for being picked up by the logistic company.\"\n",
    "drd = \"<act> clarify shipment method </act> <path1> <act> select one of three logistic companies </act> </path1> <path2> <act> write package label </act> </path2> <act> package goods </act> <act> prepare packaged goods </act> <act> pick up </act>\""
   ]
  },
  {
   "cell_type": "markdown",
   "metadata": {},
   "source": [
    "###  1. Contraction expansion\n",
    "In case a description contains any English contractions, this step expands them back to their original form. As mentioned in the paper, this step uses a look-up dictionary rather than the more clever Pycontractions model."
   ]
  },
  {
   "cell_type": "markdown",
   "metadata": {},
   "source": [
    "### 2. Coreference resolution\n",
    "In this step, coreferences are resolved. Coreference resolution is limited to the words \"he\", \"she\" and \"it\", as mentioned in the paper. "
   ]
  },
  {
   "cell_type": "code",
   "execution_count": 4,
   "metadata": {},
   "outputs": [
    {
     "ename": "ModuleNotFoundError",
     "evalue": "No module named 'text2dec'",
     "output_type": "error",
     "traceback": [
      "\u001b[1;31m---------------------------------------------------------------------------\u001b[0m",
      "\u001b[1;31mModuleNotFoundError\u001b[0m                       Traceback (most recent call last)",
      "\u001b[1;32m<ipython-input-4-64ae97bb5f16>\u001b[0m in \u001b[0;36m<module>\u001b[1;34m\u001b[0m\n\u001b[0;32m      3\u001b[0m \u001b[1;31m#############################################################\u001b[0m\u001b[1;33m\u001b[0m\u001b[1;33m\u001b[0m\u001b[1;33m\u001b[0m\u001b[0m\n\u001b[0;32m      4\u001b[0m \u001b[1;31m# First import the decision logic extractor\u001b[0m\u001b[1;33m\u001b[0m\u001b[1;33m\u001b[0m\u001b[1;33m\u001b[0m\u001b[0m\n\u001b[1;32m----> 5\u001b[1;33m \u001b[1;32mfrom\u001b[0m \u001b[0mtext2dec\u001b[0m\u001b[1;33m.\u001b[0m\u001b[0mdecision_logic_extractor_functions\u001b[0m \u001b[1;32mimport\u001b[0m \u001b[1;33m*\u001b[0m\u001b[1;33m\u001b[0m\u001b[1;33m\u001b[0m\u001b[0m\n\u001b[0m\u001b[0;32m      6\u001b[0m \u001b[1;31m# ---- Step 1: Make a spacy document of the sentence\u001b[0m\u001b[1;33m\u001b[0m\u001b[1;33m\u001b[0m\u001b[1;33m\u001b[0m\u001b[0m\n\u001b[0;32m      7\u001b[0m \u001b[0mdoc\u001b[0m \u001b[1;33m=\u001b[0m \u001b[0msp\u001b[0m\u001b[1;33m(\u001b[0m\u001b[1;34m\"If the day is rainy, sell waffles.\"\u001b[0m\u001b[1;33m)\u001b[0m\u001b[1;33m\u001b[0m\u001b[1;33m\u001b[0m\u001b[0m\n",
      "\u001b[1;31mModuleNotFoundError\u001b[0m: No module named 'text2dec'"
     ]
    }
   ],
   "source": [
    "#############################################################\n",
    "# USE OF INDIVIDUAL FUNCTIONS ###############################\n",
    "#############################################################\n",
    "# First import the decision logic extractor\n",
    "from text2dec.decision_logic_extractor_functions import *\n",
    "# ---- Step 1: Make a spacy document of the sentence\n",
    "doc = sp(\"If the day is rainy, sell waffles.\")\n",
    "\n",
    "# ---- Step 2a: Generate the high level logic\n",
    "condition_consequence_extractor(doc)\n",
    "\n",
    "# ---- Step 2b: Get the low level decision logic\n",
    "get_rule_components(doc)\n",
    "\n",
    "#############################################################\n",
    "# USE OF DECISION LOGIC EXTRACTOR ###########################\n",
    "#############################################################\n",
    "from text2dec.decision_logic_extractor import *\n",
    "\n",
    "decision_logic = decision_logic_extractor(doc)"
   ]
  },
  {
   "cell_type": "code",
   "execution_count": null,
   "metadata": {},
   "outputs": [],
   "source": []
  },
  {
   "cell_type": "code",
   "execution_count": null,
   "metadata": {},
   "outputs": [],
   "source": []
  }
 ],
 "metadata": {
  "kernelspec": {
   "display_name": "Python 3",
   "language": "python",
   "name": "python3"
  },
  "language_info": {
   "codemirror_mode": {
    "name": "ipython",
    "version": 3
   },
   "file_extension": ".py",
   "mimetype": "text/x-python",
   "name": "python",
   "nbconvert_exporter": "python",
   "pygments_lexer": "ipython3",
   "version": "3.8.3"
  }
 },
 "nbformat": 4,
 "nbformat_minor": 4
}
